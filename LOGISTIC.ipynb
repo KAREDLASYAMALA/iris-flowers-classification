{
  "cells": [
    {
      "cell_type": "markdown",
      "metadata": {
        "id": "view-in-github",
        "colab_type": "text"
      },
      "source": [
        "<a href=\"https://colab.research.google.com/github/KAREDLASYAMALA/iris-flowers-classification/blob/main/LOGISTIC.ipynb\" target=\"_parent\"><img src=\"https://colab.research.google.com/assets/colab-badge.svg\" alt=\"Open In Colab\"/></a>"
      ]
    },
    {
      "metadata": {
        "id": "W6Kl2uCDf7mh",
        "outputId": "077f11c6-031a-4d12-f462-9e2a2aafe413"
      },
      "cell_type": "code",
      "source": [
        "\n",
        "import os, types\n",
        "import pandas as pd\n",
        "from botocore.client import Config\n",
        "import ibm_boto3\n",
        "\n",
        "def __iter__(self): return 0\n",
        "\n",
        "# @hidden_cell\n",
        "# The following code accesses a file in your IBM Cloud Object Storage. It includes your credentials.\n",
        "# You might want to remove those credentials before you share the notebook.\n",
        "cos_client = ibm_boto3.client(service_name='s3',\n",
        "    ibm_api_key_id='XWeXPOpDZTOJtuk6jVq2NiJish2BGOM68YyCuJ9neuG_',\n",
        "    ibm_auth_endpoint=\"https://iam.cloud.ibm.com/oidc/token\",\n",
        "    config=Config(signature_version='oauth'),\n",
        "    endpoint_url='https://s3.private.eu-de.cloud-object-storage.appdomain.cloud')\n",
        "\n",
        "bucket = 'ists-donotdelete-pr-jkqns1usv0zxpc'\n",
        "object_key = 'Iris - Iris.csv'\n",
        "\n",
        "body = cos_client.get_object(Bucket=bucket,Key=object_key)['Body']\n",
        "# add missing __iter__ method, so pandas accepts body as file-like object\n",
        "if not hasattr(body, \"__iter__\"): body.__iter__ = types.MethodType( __iter__, body )\n",
        "\n",
        "df = pd.read_csv(body)\n",
        "df.head()\n",
        "\n"
      ],
      "execution_count": null,
      "outputs": [
        {
          "output_type": "execute_result",
          "execution_count": 3,
          "data": {
            "text/plain": "   Id  SepalLengthCm  SepalWidthCm  PetalLengthCm  PetalWidthCm      Species\n0   1            5.1           3.5            1.4           0.2  Iris-setosa\n1   2            4.9           3.0            1.4           0.2  Iris-setosa\n2   3            4.7           3.2            1.3           0.2  Iris-setosa\n3   4            4.6           3.1            1.5           0.2  Iris-setosa\n4   5            5.0           3.6            1.4           0.2  Iris-setosa",
            "text/html": "<div>\n<style scoped>\n    .dataframe tbody tr th:only-of-type {\n        vertical-align: middle;\n    }\n\n    .dataframe tbody tr th {\n        vertical-align: top;\n    }\n\n    .dataframe thead th {\n        text-align: right;\n    }\n</style>\n<table border=\"1\" class=\"dataframe\">\n  <thead>\n    <tr style=\"text-align: right;\">\n      <th></th>\n      <th>Id</th>\n      <th>SepalLengthCm</th>\n      <th>SepalWidthCm</th>\n      <th>PetalLengthCm</th>\n      <th>PetalWidthCm</th>\n      <th>Species</th>\n    </tr>\n  </thead>\n  <tbody>\n    <tr>\n      <th>0</th>\n      <td>1</td>\n      <td>5.1</td>\n      <td>3.5</td>\n      <td>1.4</td>\n      <td>0.2</td>\n      <td>Iris-setosa</td>\n    </tr>\n    <tr>\n      <th>1</th>\n      <td>2</td>\n      <td>4.9</td>\n      <td>3.0</td>\n      <td>1.4</td>\n      <td>0.2</td>\n      <td>Iris-setosa</td>\n    </tr>\n    <tr>\n      <th>2</th>\n      <td>3</td>\n      <td>4.7</td>\n      <td>3.2</td>\n      <td>1.3</td>\n      <td>0.2</td>\n      <td>Iris-setosa</td>\n    </tr>\n    <tr>\n      <th>3</th>\n      <td>4</td>\n      <td>4.6</td>\n      <td>3.1</td>\n      <td>1.5</td>\n      <td>0.2</td>\n      <td>Iris-setosa</td>\n    </tr>\n    <tr>\n      <th>4</th>\n      <td>5</td>\n      <td>5.0</td>\n      <td>3.6</td>\n      <td>1.4</td>\n      <td>0.2</td>\n      <td>Iris-setosa</td>\n    </tr>\n  </tbody>\n</table>\n</div>"
          },
          "metadata": {}
        }
      ]
    },
    {
      "metadata": {
        "id": "mGmyGOhrf7mo",
        "outputId": "f7586837-fb7e-4592-b9e7-e0000cae2699"
      },
      "cell_type": "code",
      "source": [
        "df.tail()"
      ],
      "execution_count": null,
      "outputs": [
        {
          "output_type": "execute_result",
          "execution_count": 4,
          "data": {
            "text/plain": "      Id  SepalLengthCm  SepalWidthCm  PetalLengthCm  PetalWidthCm  \\\n145  146            6.7           3.0            5.2           2.3   \n146  147            6.3           2.5            5.0           1.9   \n147  148            6.5           3.0            5.2           2.0   \n148  149            6.2           3.4            5.4           2.3   \n149  150            5.9           3.0            5.1           1.8   \n\n            Species  \n145  Iris-virginica  \n146  Iris-virginica  \n147  Iris-virginica  \n148  Iris-virginica  \n149  Iris-virginica  ",
            "text/html": "<div>\n<style scoped>\n    .dataframe tbody tr th:only-of-type {\n        vertical-align: middle;\n    }\n\n    .dataframe tbody tr th {\n        vertical-align: top;\n    }\n\n    .dataframe thead th {\n        text-align: right;\n    }\n</style>\n<table border=\"1\" class=\"dataframe\">\n  <thead>\n    <tr style=\"text-align: right;\">\n      <th></th>\n      <th>Id</th>\n      <th>SepalLengthCm</th>\n      <th>SepalWidthCm</th>\n      <th>PetalLengthCm</th>\n      <th>PetalWidthCm</th>\n      <th>Species</th>\n    </tr>\n  </thead>\n  <tbody>\n    <tr>\n      <th>145</th>\n      <td>146</td>\n      <td>6.7</td>\n      <td>3.0</td>\n      <td>5.2</td>\n      <td>2.3</td>\n      <td>Iris-virginica</td>\n    </tr>\n    <tr>\n      <th>146</th>\n      <td>147</td>\n      <td>6.3</td>\n      <td>2.5</td>\n      <td>5.0</td>\n      <td>1.9</td>\n      <td>Iris-virginica</td>\n    </tr>\n    <tr>\n      <th>147</th>\n      <td>148</td>\n      <td>6.5</td>\n      <td>3.0</td>\n      <td>5.2</td>\n      <td>2.0</td>\n      <td>Iris-virginica</td>\n    </tr>\n    <tr>\n      <th>148</th>\n      <td>149</td>\n      <td>6.2</td>\n      <td>3.4</td>\n      <td>5.4</td>\n      <td>2.3</td>\n      <td>Iris-virginica</td>\n    </tr>\n    <tr>\n      <th>149</th>\n      <td>150</td>\n      <td>5.9</td>\n      <td>3.0</td>\n      <td>5.1</td>\n      <td>1.8</td>\n      <td>Iris-virginica</td>\n    </tr>\n  </tbody>\n</table>\n</div>"
          },
          "metadata": {}
        }
      ]
    },
    {
      "metadata": {
        "id": "Xif_u9aTf7mq",
        "outputId": "590a6149-aa21-402e-a423-73473c9f4282"
      },
      "cell_type": "code",
      "source": [
        "df.shape"
      ],
      "execution_count": null,
      "outputs": [
        {
          "output_type": "execute_result",
          "execution_count": 5,
          "data": {
            "text/plain": "(150, 6)"
          },
          "metadata": {}
        }
      ]
    },
    {
      "metadata": {
        "id": "sULYUFBkf7mr",
        "outputId": "9da21a3f-01da-4023-dfff-3c049283e4de"
      },
      "cell_type": "code",
      "source": [
        "df.info()"
      ],
      "execution_count": null,
      "outputs": [
        {
          "output_type": "stream",
          "text": "<class 'pandas.core.frame.DataFrame'>\nRangeIndex: 150 entries, 0 to 149\nData columns (total 6 columns):\n #   Column         Non-Null Count  Dtype  \n---  ------         --------------  -----  \n 0   Id             150 non-null    int64  \n 1   SepalLengthCm  150 non-null    float64\n 2   SepalWidthCm   150 non-null    float64\n 3   PetalLengthCm  150 non-null    float64\n 4   PetalWidthCm   150 non-null    float64\n 5   Species        150 non-null    object \ndtypes: float64(4), int64(1), object(1)\nmemory usage: 7.2+ KB\n",
          "name": "stdout"
        }
      ]
    },
    {
      "metadata": {
        "id": "3bbyi4Msf7mr",
        "outputId": "829985dc-1c69-4fa1-ea49-de0eed6a71f5"
      },
      "cell_type": "code",
      "source": [
        "df.describe(include=\"object\").T"
      ],
      "execution_count": null,
      "outputs": [
        {
          "output_type": "execute_result",
          "execution_count": 7,
          "data": {
            "text/plain": "        count unique          top freq\nSpecies   150      3  Iris-setosa   50",
            "text/html": "<div>\n<style scoped>\n    .dataframe tbody tr th:only-of-type {\n        vertical-align: middle;\n    }\n\n    .dataframe tbody tr th {\n        vertical-align: top;\n    }\n\n    .dataframe thead th {\n        text-align: right;\n    }\n</style>\n<table border=\"1\" class=\"dataframe\">\n  <thead>\n    <tr style=\"text-align: right;\">\n      <th></th>\n      <th>count</th>\n      <th>unique</th>\n      <th>top</th>\n      <th>freq</th>\n    </tr>\n  </thead>\n  <tbody>\n    <tr>\n      <th>Species</th>\n      <td>150</td>\n      <td>3</td>\n      <td>Iris-setosa</td>\n      <td>50</td>\n    </tr>\n  </tbody>\n</table>\n</div>"
          },
          "metadata": {}
        }
      ]
    },
    {
      "metadata": {
        "id": "oPeqYTgOf7ms",
        "outputId": "80c5a777-1965-442a-c219-cf207392031f"
      },
      "cell_type": "code",
      "source": [
        "df.describe().T"
      ],
      "execution_count": null,
      "outputs": [
        {
          "output_type": "execute_result",
          "execution_count": 8,
          "data": {
            "text/plain": "               count       mean        std  min    25%    50%     75%    max\nId             150.0  75.500000  43.445368  1.0  38.25  75.50  112.75  150.0\nSepalLengthCm  150.0   5.843333   0.828066  4.3   5.10   5.80    6.40    7.9\nSepalWidthCm   150.0   3.054000   0.433594  2.0   2.80   3.00    3.30    4.4\nPetalLengthCm  150.0   3.758667   1.764420  1.0   1.60   4.35    5.10    6.9\nPetalWidthCm   150.0   1.198667   0.763161  0.1   0.30   1.30    1.80    2.5",
            "text/html": "<div>\n<style scoped>\n    .dataframe tbody tr th:only-of-type {\n        vertical-align: middle;\n    }\n\n    .dataframe tbody tr th {\n        vertical-align: top;\n    }\n\n    .dataframe thead th {\n        text-align: right;\n    }\n</style>\n<table border=\"1\" class=\"dataframe\">\n  <thead>\n    <tr style=\"text-align: right;\">\n      <th></th>\n      <th>count</th>\n      <th>mean</th>\n      <th>std</th>\n      <th>min</th>\n      <th>25%</th>\n      <th>50%</th>\n      <th>75%</th>\n      <th>max</th>\n    </tr>\n  </thead>\n  <tbody>\n    <tr>\n      <th>Id</th>\n      <td>150.0</td>\n      <td>75.500000</td>\n      <td>43.445368</td>\n      <td>1.0</td>\n      <td>38.25</td>\n      <td>75.50</td>\n      <td>112.75</td>\n      <td>150.0</td>\n    </tr>\n    <tr>\n      <th>SepalLengthCm</th>\n      <td>150.0</td>\n      <td>5.843333</td>\n      <td>0.828066</td>\n      <td>4.3</td>\n      <td>5.10</td>\n      <td>5.80</td>\n      <td>6.40</td>\n      <td>7.9</td>\n    </tr>\n    <tr>\n      <th>SepalWidthCm</th>\n      <td>150.0</td>\n      <td>3.054000</td>\n      <td>0.433594</td>\n      <td>2.0</td>\n      <td>2.80</td>\n      <td>3.00</td>\n      <td>3.30</td>\n      <td>4.4</td>\n    </tr>\n    <tr>\n      <th>PetalLengthCm</th>\n      <td>150.0</td>\n      <td>3.758667</td>\n      <td>1.764420</td>\n      <td>1.0</td>\n      <td>1.60</td>\n      <td>4.35</td>\n      <td>5.10</td>\n      <td>6.9</td>\n    </tr>\n    <tr>\n      <th>PetalWidthCm</th>\n      <td>150.0</td>\n      <td>1.198667</td>\n      <td>0.763161</td>\n      <td>0.1</td>\n      <td>0.30</td>\n      <td>1.30</td>\n      <td>1.80</td>\n      <td>2.5</td>\n    </tr>\n  </tbody>\n</table>\n</div>"
          },
          "metadata": {}
        }
      ]
    },
    {
      "metadata": {
        "id": "BV_3ZC0Pf7ms",
        "outputId": "fcc35545-e94a-4d7b-e0ec-9831e27467fa"
      },
      "cell_type": "code",
      "source": [
        "df.describe(include=\"all\").T"
      ],
      "execution_count": null,
      "outputs": [
        {
          "output_type": "execute_result",
          "execution_count": 9,
          "data": {
            "text/plain": "               count unique          top freq      mean        std  min  \\\nId             150.0    NaN          NaN  NaN      75.5  43.445368  1.0   \nSepalLengthCm  150.0    NaN          NaN  NaN  5.843333   0.828066  4.3   \nSepalWidthCm   150.0    NaN          NaN  NaN     3.054   0.433594  2.0   \nPetalLengthCm  150.0    NaN          NaN  NaN  3.758667    1.76442  1.0   \nPetalWidthCm   150.0    NaN          NaN  NaN  1.198667   0.763161  0.1   \nSpecies          150      3  Iris-setosa   50       NaN        NaN  NaN   \n\n                 25%   50%     75%    max  \nId             38.25  75.5  112.75  150.0  \nSepalLengthCm    5.1   5.8     6.4    7.9  \nSepalWidthCm     2.8   3.0     3.3    4.4  \nPetalLengthCm    1.6  4.35     5.1    6.9  \nPetalWidthCm     0.3   1.3     1.8    2.5  \nSpecies          NaN   NaN     NaN    NaN  ",
            "text/html": "<div>\n<style scoped>\n    .dataframe tbody tr th:only-of-type {\n        vertical-align: middle;\n    }\n\n    .dataframe tbody tr th {\n        vertical-align: top;\n    }\n\n    .dataframe thead th {\n        text-align: right;\n    }\n</style>\n<table border=\"1\" class=\"dataframe\">\n  <thead>\n    <tr style=\"text-align: right;\">\n      <th></th>\n      <th>count</th>\n      <th>unique</th>\n      <th>top</th>\n      <th>freq</th>\n      <th>mean</th>\n      <th>std</th>\n      <th>min</th>\n      <th>25%</th>\n      <th>50%</th>\n      <th>75%</th>\n      <th>max</th>\n    </tr>\n  </thead>\n  <tbody>\n    <tr>\n      <th>Id</th>\n      <td>150.0</td>\n      <td>NaN</td>\n      <td>NaN</td>\n      <td>NaN</td>\n      <td>75.5</td>\n      <td>43.445368</td>\n      <td>1.0</td>\n      <td>38.25</td>\n      <td>75.5</td>\n      <td>112.75</td>\n      <td>150.0</td>\n    </tr>\n    <tr>\n      <th>SepalLengthCm</th>\n      <td>150.0</td>\n      <td>NaN</td>\n      <td>NaN</td>\n      <td>NaN</td>\n      <td>5.843333</td>\n      <td>0.828066</td>\n      <td>4.3</td>\n      <td>5.1</td>\n      <td>5.8</td>\n      <td>6.4</td>\n      <td>7.9</td>\n    </tr>\n    <tr>\n      <th>SepalWidthCm</th>\n      <td>150.0</td>\n      <td>NaN</td>\n      <td>NaN</td>\n      <td>NaN</td>\n      <td>3.054</td>\n      <td>0.433594</td>\n      <td>2.0</td>\n      <td>2.8</td>\n      <td>3.0</td>\n      <td>3.3</td>\n      <td>4.4</td>\n    </tr>\n    <tr>\n      <th>PetalLengthCm</th>\n      <td>150.0</td>\n      <td>NaN</td>\n      <td>NaN</td>\n      <td>NaN</td>\n      <td>3.758667</td>\n      <td>1.76442</td>\n      <td>1.0</td>\n      <td>1.6</td>\n      <td>4.35</td>\n      <td>5.1</td>\n      <td>6.9</td>\n    </tr>\n    <tr>\n      <th>PetalWidthCm</th>\n      <td>150.0</td>\n      <td>NaN</td>\n      <td>NaN</td>\n      <td>NaN</td>\n      <td>1.198667</td>\n      <td>0.763161</td>\n      <td>0.1</td>\n      <td>0.3</td>\n      <td>1.3</td>\n      <td>1.8</td>\n      <td>2.5</td>\n    </tr>\n    <tr>\n      <th>Species</th>\n      <td>150</td>\n      <td>3</td>\n      <td>Iris-setosa</td>\n      <td>50</td>\n      <td>NaN</td>\n      <td>NaN</td>\n      <td>NaN</td>\n      <td>NaN</td>\n      <td>NaN</td>\n      <td>NaN</td>\n      <td>NaN</td>\n    </tr>\n  </tbody>\n</table>\n</div>"
          },
          "metadata": {}
        }
      ]
    },
    {
      "metadata": {
        "id": "3Yuvrm3if7mt",
        "outputId": "cfb618d6-5add-4cef-e30a-067e318cd50c"
      },
      "cell_type": "code",
      "source": [
        "df.duplicated().sum()"
      ],
      "execution_count": null,
      "outputs": [
        {
          "output_type": "execute_result",
          "execution_count": 10,
          "data": {
            "text/plain": "0"
          },
          "metadata": {}
        }
      ]
    },
    {
      "metadata": {
        "id": "mirYx9Yrf7mu",
        "outputId": "553a7673-7b7b-47d9-e91c-cb1d1ec85474"
      },
      "cell_type": "code",
      "source": [
        "df.isnull().sum()"
      ],
      "execution_count": null,
      "outputs": [
        {
          "output_type": "execute_result",
          "execution_count": 11,
          "data": {
            "text/plain": "Id               0\nSepalLengthCm    0\nSepalWidthCm     0\nPetalLengthCm    0\nPetalWidthCm     0\nSpecies          0\ndtype: int64"
          },
          "metadata": {}
        }
      ]
    },
    {
      "metadata": {
        "id": "slpSW9OPf7mu",
        "outputId": "6468ba72-ad1e-4426-dfe0-4721d65b22f8"
      },
      "cell_type": "code",
      "source": [
        "df[\"Species\"].value_counts()"
      ],
      "execution_count": null,
      "outputs": [
        {
          "output_type": "execute_result",
          "execution_count": 12,
          "data": {
            "text/plain": "Iris-setosa        50\nIris-versicolor    50\nIris-virginica     50\nName: Species, dtype: int64"
          },
          "metadata": {}
        }
      ]
    },
    {
      "metadata": {
        "id": "04wiXCZCf7mv"
      },
      "cell_type": "code",
      "source": [
        "df=df.drop(['Id'],axis=1)"
      ],
      "execution_count": null,
      "outputs": []
    },
    {
      "metadata": {
        "id": "IZrBWN8of7m3"
      },
      "cell_type": "code",
      "source": [
        "features=df.drop([\"Species\"],axis=1)\n",
        "\n",
        "target=df[\"Species\"]"
      ],
      "execution_count": null,
      "outputs": []
    },
    {
      "metadata": {
        "id": "26tkR8Bnf7m4"
      },
      "cell_type": "code",
      "source": [
        "x=features\n",
        "y=target"
      ],
      "execution_count": null,
      "outputs": []
    },
    {
      "metadata": {
        "id": "BTiYKuLOf7m4",
        "outputId": "53c293bc-632c-4c07-f53f-5207ebde754f"
      },
      "cell_type": "code",
      "source": [
        "x.head()"
      ],
      "execution_count": null,
      "outputs": [
        {
          "output_type": "execute_result",
          "execution_count": 16,
          "data": {
            "text/plain": "   SepalLengthCm  SepalWidthCm  PetalLengthCm  PetalWidthCm\n0            5.1           3.5            1.4           0.2\n1            4.9           3.0            1.4           0.2\n2            4.7           3.2            1.3           0.2\n3            4.6           3.1            1.5           0.2\n4            5.0           3.6            1.4           0.2",
            "text/html": "<div>\n<style scoped>\n    .dataframe tbody tr th:only-of-type {\n        vertical-align: middle;\n    }\n\n    .dataframe tbody tr th {\n        vertical-align: top;\n    }\n\n    .dataframe thead th {\n        text-align: right;\n    }\n</style>\n<table border=\"1\" class=\"dataframe\">\n  <thead>\n    <tr style=\"text-align: right;\">\n      <th></th>\n      <th>SepalLengthCm</th>\n      <th>SepalWidthCm</th>\n      <th>PetalLengthCm</th>\n      <th>PetalWidthCm</th>\n    </tr>\n  </thead>\n  <tbody>\n    <tr>\n      <th>0</th>\n      <td>5.1</td>\n      <td>3.5</td>\n      <td>1.4</td>\n      <td>0.2</td>\n    </tr>\n    <tr>\n      <th>1</th>\n      <td>4.9</td>\n      <td>3.0</td>\n      <td>1.4</td>\n      <td>0.2</td>\n    </tr>\n    <tr>\n      <th>2</th>\n      <td>4.7</td>\n      <td>3.2</td>\n      <td>1.3</td>\n      <td>0.2</td>\n    </tr>\n    <tr>\n      <th>3</th>\n      <td>4.6</td>\n      <td>3.1</td>\n      <td>1.5</td>\n      <td>0.2</td>\n    </tr>\n    <tr>\n      <th>4</th>\n      <td>5.0</td>\n      <td>3.6</td>\n      <td>1.4</td>\n      <td>0.2</td>\n    </tr>\n  </tbody>\n</table>\n</div>"
          },
          "metadata": {}
        }
      ]
    },
    {
      "metadata": {
        "id": "AO_bHU_Qf7m5",
        "outputId": "a0b5d0ee-bf55-4ce6-976d-7ddc18bed917"
      },
      "cell_type": "code",
      "source": [
        "\n",
        "y"
      ],
      "execution_count": null,
      "outputs": [
        {
          "output_type": "execute_result",
          "execution_count": 17,
          "data": {
            "text/plain": "0         Iris-setosa\n1         Iris-setosa\n2         Iris-setosa\n3         Iris-setosa\n4         Iris-setosa\n            ...      \n145    Iris-virginica\n146    Iris-virginica\n147    Iris-virginica\n148    Iris-virginica\n149    Iris-virginica\nName: Species, Length: 150, dtype: object"
          },
          "metadata": {}
        }
      ]
    },
    {
      "metadata": {
        "id": "afJQs12xf7m5",
        "outputId": "f536efb9-5407-4b73-8c1e-36b82cb85be9"
      },
      "cell_type": "code",
      "source": [
        "from sklearn.model_selection import train_test_split\n",
        "x_train,x_test,y_train,y_test=train_test_split(x,y,test_size=0.20,random_state=17,stratify=y)\n",
        "print(x_train.shape)\n",
        "print(x_test.shape)"
      ],
      "execution_count": null,
      "outputs": [
        {
          "output_type": "stream",
          "text": "(120, 4)\n(30, 4)\n",
          "name": "stdout"
        }
      ]
    },
    {
      "metadata": {
        "id": "_N9wdIfqf7m5"
      },
      "cell_type": "code",
      "source": [
        "from sklearn.metrics import accuracy_score"
      ],
      "execution_count": null,
      "outputs": []
    },
    {
      "metadata": {
        "id": "T5qiQJMnf7m5"
      },
      "cell_type": "code",
      "source": [
        "def print_metrics(actual,predicted):\n",
        "    print('accuracy_score is {}'.format(accuracy_score(actual,predicted)))"
      ],
      "execution_count": null,
      "outputs": []
    },
    {
      "metadata": {
        "id": "NjyONUwLf7m6"
      },
      "cell_type": "code",
      "source": [
        "from sklearn.linear_model import LogisticRegression\n",
        "from sklearn.model_selection import GridSearchCV\n",
        "import warnings\n",
        "warnings.filterwarnings('ignore')"
      ],
      "execution_count": null,
      "outputs": []
    },
    {
      "metadata": {
        "id": "9xuvUspwf7m6"
      },
      "cell_type": "code",
      "source": [
        "lr=LogisticRegression()"
      ],
      "execution_count": null,
      "outputs": []
    },
    {
      "metadata": {
        "id": "LrwIuwgtf7m6",
        "outputId": "3f686405-6266-4e9d-c598-bd9ab96b102b"
      },
      "cell_type": "code",
      "source": [
        "param_grid = {'penalty': ['l1', 'l2'], 'C': [100, 150, 200]}\n",
        "\n",
        "log_model = GridSearchCV(lr, param_grid, scoring='accuracy', cv=5)\n",
        "log_model.fit(x_train, y_train)"
      ],
      "execution_count": null,
      "outputs": [
        {
          "output_type": "execute_result",
          "execution_count": 25,
          "data": {
            "text/plain": "GridSearchCV(cv=5, estimator=LogisticRegression(),\n             param_grid={'C': [100, 150, 200], 'penalty': ['l1', 'l2']},\n             scoring='accuracy')",
            "text/html": "<style>#sk-container-id-1 {color: black;background-color: white;}#sk-container-id-1 pre{padding: 0;}#sk-container-id-1 div.sk-toggleable {background-color: white;}#sk-container-id-1 label.sk-toggleable__label {cursor: pointer;display: block;width: 100%;margin-bottom: 0;padding: 0.3em;box-sizing: border-box;text-align: center;}#sk-container-id-1 label.sk-toggleable__label-arrow:before {content: \"▸\";float: left;margin-right: 0.25em;color: #696969;}#sk-container-id-1 label.sk-toggleable__label-arrow:hover:before {color: black;}#sk-container-id-1 div.sk-estimator:hover label.sk-toggleable__label-arrow:before {color: black;}#sk-container-id-1 div.sk-toggleable__content {max-height: 0;max-width: 0;overflow: hidden;text-align: left;background-color: #f0f8ff;}#sk-container-id-1 div.sk-toggleable__content pre {margin: 0.2em;color: black;border-radius: 0.25em;background-color: #f0f8ff;}#sk-container-id-1 input.sk-toggleable__control:checked~div.sk-toggleable__content {max-height: 200px;max-width: 100%;overflow: auto;}#sk-container-id-1 input.sk-toggleable__control:checked~label.sk-toggleable__label-arrow:before {content: \"▾\";}#sk-container-id-1 div.sk-estimator input.sk-toggleable__control:checked~label.sk-toggleable__label {background-color: #d4ebff;}#sk-container-id-1 div.sk-label input.sk-toggleable__control:checked~label.sk-toggleable__label {background-color: #d4ebff;}#sk-container-id-1 input.sk-hidden--visually {border: 0;clip: rect(1px 1px 1px 1px);clip: rect(1px, 1px, 1px, 1px);height: 1px;margin: -1px;overflow: hidden;padding: 0;position: absolute;width: 1px;}#sk-container-id-1 div.sk-estimator {font-family: monospace;background-color: #f0f8ff;border: 1px dotted black;border-radius: 0.25em;box-sizing: border-box;margin-bottom: 0.5em;}#sk-container-id-1 div.sk-estimator:hover {background-color: #d4ebff;}#sk-container-id-1 div.sk-parallel-item::after {content: \"\";width: 100%;border-bottom: 1px solid gray;flex-grow: 1;}#sk-container-id-1 div.sk-label:hover label.sk-toggleable__label {background-color: #d4ebff;}#sk-container-id-1 div.sk-serial::before {content: \"\";position: absolute;border-left: 1px solid gray;box-sizing: border-box;top: 0;bottom: 0;left: 50%;z-index: 0;}#sk-container-id-1 div.sk-serial {display: flex;flex-direction: column;align-items: center;background-color: white;padding-right: 0.2em;padding-left: 0.2em;position: relative;}#sk-container-id-1 div.sk-item {position: relative;z-index: 1;}#sk-container-id-1 div.sk-parallel {display: flex;align-items: stretch;justify-content: center;background-color: white;position: relative;}#sk-container-id-1 div.sk-item::before, #sk-container-id-1 div.sk-parallel-item::before {content: \"\";position: absolute;border-left: 1px solid gray;box-sizing: border-box;top: 0;bottom: 0;left: 50%;z-index: -1;}#sk-container-id-1 div.sk-parallel-item {display: flex;flex-direction: column;z-index: 1;position: relative;background-color: white;}#sk-container-id-1 div.sk-parallel-item:first-child::after {align-self: flex-end;width: 50%;}#sk-container-id-1 div.sk-parallel-item:last-child::after {align-self: flex-start;width: 50%;}#sk-container-id-1 div.sk-parallel-item:only-child::after {width: 0;}#sk-container-id-1 div.sk-dashed-wrapped {border: 1px dashed gray;margin: 0 0.4em 0.5em 0.4em;box-sizing: border-box;padding-bottom: 0.4em;background-color: white;}#sk-container-id-1 div.sk-label label {font-family: monospace;font-weight: bold;display: inline-block;line-height: 1.2em;}#sk-container-id-1 div.sk-label-container {text-align: center;}#sk-container-id-1 div.sk-container {/* jupyter's `normalize.less` sets `[hidden] { display: none; }` but bootstrap.min.css set `[hidden] { display: none !important; }` so we also need the `!important` here to be able to override the default hidden behavior on the sphinx rendered scikit-learn.org. See: https://github.com/scikit-learn/scikit-learn/issues/21755 */display: inline-block !important;position: relative;}#sk-container-id-1 div.sk-text-repr-fallback {display: none;}</style><div id=\"sk-container-id-1\" class=\"sk-top-container\"><div class=\"sk-text-repr-fallback\"><pre>GridSearchCV(cv=5, estimator=LogisticRegression(),\n             param_grid={&#x27;C&#x27;: [100, 150, 200], &#x27;penalty&#x27;: [&#x27;l1&#x27;, &#x27;l2&#x27;]},\n             scoring=&#x27;accuracy&#x27;)</pre><b>In a Jupyter environment, please rerun this cell to show the HTML representation or trust the notebook. <br />On GitHub, the HTML representation is unable to render, please try loading this page with nbviewer.org.</b></div><div class=\"sk-container\" hidden><div class=\"sk-item sk-dashed-wrapped\"><div class=\"sk-label-container\"><div class=\"sk-label sk-toggleable\"><input class=\"sk-toggleable__control sk-hidden--visually\" id=\"sk-estimator-id-1\" type=\"checkbox\" ><label for=\"sk-estimator-id-1\" class=\"sk-toggleable__label sk-toggleable__label-arrow\">GridSearchCV</label><div class=\"sk-toggleable__content\"><pre>GridSearchCV(cv=5, estimator=LogisticRegression(),\n             param_grid={&#x27;C&#x27;: [100, 150, 200], &#x27;penalty&#x27;: [&#x27;l1&#x27;, &#x27;l2&#x27;]},\n             scoring=&#x27;accuracy&#x27;)</pre></div></div></div><div class=\"sk-parallel\"><div class=\"sk-parallel-item\"><div class=\"sk-item\"><div class=\"sk-label-container\"><div class=\"sk-label sk-toggleable\"><input class=\"sk-toggleable__control sk-hidden--visually\" id=\"sk-estimator-id-2\" type=\"checkbox\" ><label for=\"sk-estimator-id-2\" class=\"sk-toggleable__label sk-toggleable__label-arrow\">estimator: LogisticRegression</label><div class=\"sk-toggleable__content\"><pre>LogisticRegression()</pre></div></div></div><div class=\"sk-serial\"><div class=\"sk-item\"><div class=\"sk-estimator sk-toggleable\"><input class=\"sk-toggleable__control sk-hidden--visually\" id=\"sk-estimator-id-3\" type=\"checkbox\" ><label for=\"sk-estimator-id-3\" class=\"sk-toggleable__label sk-toggleable__label-arrow\">LogisticRegression</label><div class=\"sk-toggleable__content\"><pre>LogisticRegression()</pre></div></div></div></div></div></div></div></div></div></div>"
          },
          "metadata": {}
        }
      ]
    },
    {
      "metadata": {
        "id": "BxShbW7-f7m6"
      },
      "cell_type": "code",
      "source": [
        "y_train_class_preds=log_model.predict(x_train)\n",
        "y_test_class_preds=log_model.predict(x_test)"
      ],
      "execution_count": null,
      "outputs": []
    },
    {
      "metadata": {
        "id": "tkaMoWyJf7m7",
        "outputId": "d4ebf2f9-68c7-4160-9fd3-195dbf7eafb6"
      },
      "cell_type": "code",
      "source": [
        "print_metrics(y_train,y_train_class_preds)"
      ],
      "execution_count": null,
      "outputs": [
        {
          "output_type": "stream",
          "text": "accuracy_score is 0.9833333333333333\n",
          "name": "stdout"
        }
      ]
    },
    {
      "metadata": {
        "id": "xSJl31igf7m7",
        "outputId": "06989308-abdf-4a51-edf4-c48cb86f83d7"
      },
      "cell_type": "code",
      "source": [
        "print_metrics(y_test,y_test_class_preds)"
      ],
      "execution_count": null,
      "outputs": [
        {
          "output_type": "stream",
          "text": "accuracy_score is 0.9666666666666667\n",
          "name": "stdout"
        }
      ]
    },
    {
      "metadata": {
        "id": "uNWa02upf7m7"
      },
      "cell_type": "code",
      "source": [
        ""
      ],
      "execution_count": null,
      "outputs": []
    }
  ],
  "metadata": {
    "kernelspec": {
      "name": "python3",
      "display_name": "Python 3.10",
      "language": "python"
    },
    "language_info": {
      "name": "python",
      "version": "3.10.13",
      "mimetype": "text/x-python",
      "codemirror_mode": {
        "name": "ipython",
        "version": 3
      },
      "pygments_lexer": "ipython3",
      "nbconvert_exporter": "python",
      "file_extension": ".py"
    },
    "colab": {
      "provenance": [],
      "include_colab_link": true
    }
  },
  "nbformat": 4,
  "nbformat_minor": 0
}